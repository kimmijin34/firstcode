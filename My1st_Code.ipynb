{
  "nbformat": 4,
  "nbformat_minor": 0,
  "metadata": {
    "colab": {
      "provenance": [],
      "authorship_tag": "ABX9TyMRtU2e6Gg/x5g+zkMfVIQN",
      "include_colab_link": true
    },
    "kernelspec": {
      "name": "python3",
      "display_name": "Python 3"
    },
    "language_info": {
      "name": "python"
    }
  },
  "cells": [
    {
      "cell_type": "markdown",
      "metadata": {
        "id": "view-in-github",
        "colab_type": "text"
      },
      "source": [
        "<a href=\"https://colab.research.google.com/github/kimmijin34/firstcode/blob/main/My1st_Code.ipynb\" target=\"_parent\"><img src=\"https://colab.research.google.com/assets/colab-badge.svg\" alt=\"Open In Colab\"/></a>"
      ]
    },
    {
      "cell_type": "markdown",
      "source": [
        "1.나의 생애 첫 코드작성(Hello World)"
      ],
      "metadata": {
        "id": "LXPNFndQhK4y"
      }
    },
    {
      "cell_type": "markdown",
      "source": [
        "2.사칙연산(+,-,*,/)"
      ],
      "metadata": {
        "id": "sAY3iwnEkBPB"
      }
    },
    {
      "cell_type": "code",
      "execution_count": 3,
      "metadata": {
        "colab": {
          "base_uri": "https://localhost:8080/"
        },
        "id": "MUDUwxVxcOeM",
        "outputId": "1a637322-ad60-48c3-afd7-b64a6249ab64"
      },
      "outputs": [
        {
          "output_type": "stream",
          "name": "stdout",
          "text": [
            "8 2 16 2\n"
          ]
        }
      ],
      "source": [
        "print(4+4,4-2,4*4,4//2)"
      ]
    }
  ]
}